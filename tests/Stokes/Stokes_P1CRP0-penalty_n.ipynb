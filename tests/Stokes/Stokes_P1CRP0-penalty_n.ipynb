{
 "cells": [
  {
   "cell_type": "markdown",
   "metadata": {},
   "source": [
    "# Solving Stokes equation with $(P_{1}^{CR}, P_{0})$"
   ]
  },
  {
   "cell_type": "code",
   "execution_count": 17,
   "metadata": {},
   "outputs": [],
   "source": [
    "from skfem import *\n",
    "import numpy as np\n",
    "from skfem.visuals.matplotlib import draw, plot\n",
    "from skfem.utils import solver_iter_krylov, solver_eigen_scipy, solver_iter_pcg\n",
    "from skfem.helpers import dd, ddot, div, grad, d, prod, dot\n",
    "from scipy.sparse.linalg import LinearOperator, minres\n",
    "import matplotlib.pyplot as plt\n",
    "from mpl_toolkits.mplot3d import Axes3D\n",
    "from scipy.sparse import bmat\n",
    "import dmsh\n",
    "from skfem.assembly import BilinearForm, LinearForm\n",
    "import scipy.sparse.linalg as spl"
   ]
  },
  {
   "cell_type": "markdown",
   "metadata": {},
   "source": [
    "## Problem description"
   ]
  },
  {
   "cell_type": "markdown",
   "metadata": {},
   "source": [
    "$$\n",
    "\\left\\{\\begin{array}{l}\n",
    "- \\Delta\\boldsymbol{u} + \\nabla p = \\boldsymbol{f} \\ in \\  \\Omega \\\\\n",
    "\\nabla\\cdot\\boldsymbol{u} = 0 \\ in \\  \\Omega \\\\\n",
    "u = 0 \\ on \\ \\partial \\Omega\n",
    "\\end{array}\\right.\n",
    "$$\n",
    "\n",
    "where \n",
    "\n",
    "$$\n",
    "\\left\\{\\begin{array}{l}\n",
    "\\Delta \\mathbf{u}=\\sum_{i=1}^{N} \\frac{\\partial^{2} \\mathbf{u}}{\\partial x_{i} \\partial x_{i}} \\\\\n",
    "\\nabla p=\\left(\\frac{\\partial p}{\\partial x_{1}}, \\frac{\\partial p}{\\partial x_{2}}, \\ldots, \\frac{\\partial p}{\\partial x_{N}}\\right) \\\\\n",
    "\\nabla \\cdot \\mathbf{u}=\\sum_{1}^{N} \\frac{\\partial u_{i}}{\\partial x_{i}}\n",
    "\\end{array}\\right.\n",
    "$$\n",
    "\n",
    "`u` is the velocity vector and `p` is the pressure"
   ]
  },
  {
   "cell_type": "markdown",
   "metadata": {},
   "source": [
    "Testing case in $\\Omega=[0,1] \\times [0,1]$:\n",
    "$$\n",
    "\\left\\{\\begin{array}{l}\n",
    "u1 = 10x^{2}(x - 1)^{2}y(y - 1)(2y - 1) \\\\\n",
    "u2 = -10y^{2}(y - 1)^{2}x(x - 1)(2x - 1) \\\\\n",
    "p = x^{2} - y^{2}\n",
    "\\end{array}\\right.\n",
    "$$"
   ]
  },
  {
   "cell_type": "markdown",
   "metadata": {},
   "source": [
    "$$\n",
    "\\left(\\begin{array}{cc}\n",
    "A & -B \\\\\n",
    "-B^{T} & 0\n",
    "\\end{array}\\right)\\left(\\begin{array}{l}\n",
    "U \\\\\n",
    "P\n",
    "\\end{array}\\right)=\\left(\\begin{array}{l}\n",
    "F_{1} \\\\\n",
    "0\n",
    "\\end{array}\\right)\n",
    "$$"
   ]
  },
  {
   "cell_type": "markdown",
   "metadata": {},
   "source": [
    "## Adding $P_{1}^{CR}$ element"
   ]
  },
  {
   "cell_type": "code",
   "execution_count": 2,
   "metadata": {
    "code_folding": [
     0
    ]
   },
   "outputs": [],
   "source": [
    "class ElementTriP1CR(ElementH1):\n",
    "    \n",
    "    facet_dofs = 1\n",
    "    dim = 2\n",
    "    maxdeg = 1\n",
    "    dofnames = ['u']\n",
    "    doflocs = np.array([[.5, 0.], [.5, .5], [0., .5]])\n",
    "    mesh_type = MeshTri\n",
    "\n",
    "    def lbasis(self, X, i):\n",
    "        x, y = X\n",
    "\n",
    "        if i == 0:\n",
    "            phi = 1. - 2. * y\n",
    "            dphi = np.array([0. * x, -2. + 0. * y])\n",
    "            dphi = np.array([0. * x, -2. + 0. * y])\n",
    "        elif i == 1:\n",
    "            phi = 2. * x + 2. * y - 1.\n",
    "            dphi = np.array([2. + 0. * x, 2. + 0. * y])\n",
    "        elif i == 2:\n",
    "            phi = 1. - 2. * x\n",
    "            dphi = np.array([-2. + 0. * x, 0. * x])\n",
    "        else:\n",
    "            self._index_error()\n",
    "        return phi, dphi"
   ]
  },
  {
   "cell_type": "markdown",
   "metadata": {},
   "source": [
    "## Defining forms"
   ]
  },
  {
   "cell_type": "code",
   "execution_count": 3,
   "metadata": {},
   "outputs": [],
   "source": [
    "@BilinearForm\n",
    "def vector_laplace(u, v, w):\n",
    "    '''\n",
    "    a\n",
    "    '''\n",
    "    return ddot(grad(u), grad(v))\n",
    "\n",
    "\n",
    "@BilinearForm\n",
    "def divergence(u, v, w):\n",
    "    '''\n",
    "    b\n",
    "    '''\n",
    "    return div(u) * v\n",
    "\n",
    "\n",
    "@LinearForm\n",
    "def body_force(v, w):\n",
    "    '''\n",
    "    for f.*v\n",
    "    '''\n",
    "    x, y = w.x\n",
    "    f1 = -10 * (12 * x**2 - 12 * x + 2) * y * (y - 1) * (2 * y - 1) - 10 * (\n",
    "        x**2) * ((x - 1)**2) * (12 * y - 6) + 2 * x\n",
    "    f2 = 10 * (12 * y**2 - 12 * y + 2) * x * (x - 1) * (2 * x - 1) + 10 * (y**2) * ((y - 1)**2) * (12 * x - 6) - 2 * y\n",
    "    return f1 * v.value[0] + f2 * v.value[1]\n",
    "\n",
    "\n",
    "@BilinearForm\n",
    "def mass(u, v, w):\n",
    "    '''\n",
    "    c \n",
    "    '''\n",
    "    return u * v * 0"
   ]
  },
  {
   "cell_type": "markdown",
   "metadata": {},
   "source": [
    "## Defining exact value and $L_{2}$ error"
   ]
  },
  {
   "cell_type": "code",
   "execution_count": 4,
   "metadata": {
    "scrolled": true
   },
   "outputs": [],
   "source": [
    "def exactu(x, y):\n",
    "    u1 = 10 * (x**2) * ((x - 1)**2) * y * (y - 1) * (2 * y - 1)\n",
    "    u2 = -10 * (y**2) * ((y - 1)**2) * x * (x - 1) * (2 * x - 1)\n",
    "    return u1, u2\n",
    "\n",
    "\n",
    "@Functional\n",
    "def L2Error_u(w):\n",
    "    x, y = w.x\n",
    "    u1, u2 = exactu(x, y)\n",
    "    return (w.w[0] - u1)**2 + (w.w[1] - u2)**2\n",
    "\n",
    "\n",
    "def exactp(x, y):\n",
    "    return x**2 - y**2\n",
    "\n",
    "\n",
    "@Functional\n",
    "def L2Error_p(w):\n",
    "    x, y = w.x\n",
    "    return (w.w - exactp(x, y))**2"
   ]
  },
  {
   "cell_type": "markdown",
   "metadata": {},
   "source": [
    "## Caculating error and convergence rate\n",
    "> result: $h^{2}$ for `L2u` and $h^{1}$ for `L2p`"
   ]
  },
  {
   "cell_type": "markdown",
   "metadata": {},
   "source": [
    "## MINRES"
   ]
  },
  {
   "cell_type": "code",
   "execution_count": 63,
   "metadata": {},
   "outputs": [],
   "source": [
    "@BilinearForm\n",
    "def penalty_1(u, v, w):\n",
    "    global uu, vv, ww\n",
    "    uu = u\n",
    "    vv = v\n",
    "    ww = w\n",
    "    w_t = np.array([-w.n[1], w.n[0]])\n",
    "    return -ddot(d(u), prod(w_t, w.n)) * dot(v, w_t)\n",
    "\n",
    "\n",
    "@BilinearForm\n",
    "def penalty_2(u, v, w):\n",
    "    w_t = np.array([-w.n[1], w.n[0]])\n",
    "    return -ddot(d(v), prod(w_t, w.n)) * dot(u, w_t)\n",
    "\n",
    "\n",
    "@BilinearForm\n",
    "def penalty_3(u, v, w):\n",
    "    w_t = np.array([-w.n[1], w.n[0]])\n",
    "    return (sigma / w.h) * dot(u, w_t) * dot(v, w_t)"
   ]
  },
  {
   "cell_type": "code",
   "execution_count": 58,
   "metadata": {},
   "outputs": [
    {
     "data": {
      "text/plain": [
       "(64, 3)"
      ]
     },
     "execution_count": 58,
     "metadata": {},
     "output_type": "execute_result"
    }
   ],
   "source": [
    "w_t = np.array([-ww.n[1], ww.n[0]])\n",
    "aaaa = -ddot(d(uu), prod(w_t, ww.n)) * dot(vv, w_t)\n",
    "aaaa.shape"
   ]
  },
  {
   "cell_type": "code",
   "execution_count": 56,
   "metadata": {},
   "outputs": [],
   "source": [
    "du = d(uu)"
   ]
  },
  {
   "cell_type": "code",
   "execution_count": 57,
   "metadata": {},
   "outputs": [
    {
     "data": {
      "text/plain": [
       "(2, 2, 64, 3)"
      ]
     },
     "execution_count": 57,
     "metadata": {},
     "output_type": "execute_result"
    }
   ],
   "source": [
    "du.shape"
   ]
  },
  {
   "cell_type": "code",
   "execution_count": 46,
   "metadata": {},
   "outputs": [
    {
     "data": {
      "text/plain": [
       "(2, 64, 3)"
      ]
     },
     "execution_count": 46,
     "metadata": {},
     "output_type": "execute_result"
    }
   ],
   "source": [
    "vv.value.shape"
   ]
  },
  {
   "cell_type": "code",
   "execution_count": 48,
   "metadata": {},
   "outputs": [
    {
     "data": {
      "text/plain": [
       "(64, 3)"
      ]
     },
     "execution_count": 48,
     "metadata": {},
     "output_type": "execute_result"
    }
   ],
   "source": [
    "dot(du[0], ww.n).shape"
   ]
  },
  {
   "cell_type": "code",
   "execution_count": 51,
   "metadata": {},
   "outputs": [
    {
     "data": {
      "text/plain": [
       "(64, 3)"
      ]
     },
     "execution_count": 51,
     "metadata": {},
     "output_type": "execute_result"
    }
   ],
   "source": [
    "(vv.value[0] * dot(du[0], ww.n)).shape"
   ]
  },
  {
   "cell_type": "code",
   "execution_count": 60,
   "metadata": {},
   "outputs": [
    {
     "data": {
      "text/plain": [
       "(2, 2, 64, 3)"
      ]
     },
     "execution_count": 60,
     "metadata": {},
     "output_type": "execute_result"
    }
   ],
   "source": [
    "(dot(du[0], ww.n) * vv[0] + dot(du[1], ww.n) * vv[1]).shape"
   ]
  },
  {
   "cell_type": "code",
   "execution_count": 50,
   "metadata": {},
   "outputs": [
    {
     "data": {
      "text/plain": [
       "(64, 3)"
      ]
     },
     "execution_count": 50,
     "metadata": {},
     "output_type": "execute_result"
    }
   ],
   "source": [
    "vv.value[0].shape"
   ]
  },
  {
   "cell_type": "code",
   "execution_count": 53,
   "metadata": {},
   "outputs": [
    {
     "data": {
      "text/plain": [
       "(64, 3)"
      ]
     },
     "execution_count": 53,
     "metadata": {},
     "output_type": "execute_result"
    }
   ],
   "source": [
    "dot(uu.value, vv.value).shape"
   ]
  },
  {
   "cell_type": "markdown",
   "metadata": {},
   "source": [
    "remove t"
   ]
  },
  {
   "cell_type": "code",
   "execution_count": 70,
   "metadata": {},
   "outputs": [],
   "source": [
    "@BilinearForm\n",
    "def penalty_1(u, v, w):\n",
    "    du = d(u)\n",
    "    return -(dot(du[0], w.n) * v.value[0] + dot(du[1], w.n) * v.value[1])\n",
    "\n",
    "\n",
    "@BilinearForm\n",
    "def penalty_2(u, v, w):\n",
    "    dv = d(v)\n",
    "    return -(dot(dv[0], w.n) * u.value[0] + dot(dv[1], w.n) * u.value[1])\n",
    "\n",
    "\n",
    "@BilinearForm\n",
    "def penalty_3(u, v, w):\n",
    "    return (sigma / w.h) * dot(u, v)"
   ]
  },
  {
   "cell_type": "markdown",
   "metadata": {},
   "source": [
    "prod(wt, wn)"
   ]
  },
  {
   "cell_type": "code",
   "execution_count": 68,
   "metadata": {},
   "outputs": [],
   "source": [
    "@BilinearForm\n",
    "def penalty_1(u, v, w):\n",
    "    w_t = np.array([-w.n[1], w.n[0]])\n",
    "    # return -dot(u, v)\n",
    "    return -ddot(d(u), prod(w_t, w.n)) * dot(v, w_t) - ddot(d(u), prod(w.n, w.n)) * dot(v, w.n)\n",
    "\n",
    "\n",
    "@BilinearForm\n",
    "def penalty_2(u, v, w):\n",
    "    w_t = np.array([-w.n[1], w.n[0]])\n",
    "    return -ddot(d(v), prod(w_t, w.n)) * dot(u, w_t) - ddot(d(v), prod(w.n, w.n)) * dot(u, w.n)\n",
    "\n",
    "\n",
    "@BilinearForm\n",
    "def penalty_3(u, v, w):\n",
    "    w_t = np.array([-w.n[1], w.n[0]])\n",
    "    return (sigma / w.h) * (dot(u, w_t) * dot(v, w_t) + dot(u, w.n) * dot(v, w.n))"
   ]
  },
  {
   "cell_type": "code",
   "execution_count": 30,
   "metadata": {},
   "outputs": [],
   "source": [
    "def normal_boundary(basis):\n",
    "    '''\n",
    "    Input basis\n",
    "    ----------------\n",
    "    Return D for boundary conditions for u^n\n",
    "    ----------------\n",
    "    Note: u^1 here stands for the first component of u and u^2 for the second\n",
    "    '''\n",
    "\n",
    "    dofs = basis.find_dofs({\n",
    "        'left': m.facets_satisfying(lambda x: x[0] == 0),\n",
    "        'right': m.facets_satisfying(lambda x: x[0] == 1),\n",
    "        'top': m.facets_satisfying(lambda x: x[1] == 1),\n",
    "        'buttom': m.facets_satisfying(lambda x: x[1] == 0)\n",
    "    })\n",
    "\n",
    "    D = np.concatenate((dofs['left'].facet['u^1'], dofs['right'].facet['u^1'],\n",
    "                        dofs['top'].facet['u^2'], dofs['buttom'].facet['u^2']))\n",
    "    return D"
   ]
  },
  {
   "cell_type": "code",
   "execution_count": 69,
   "metadata": {},
   "outputs": [
    {
     "name": "stdout",
     "output_type": "stream",
     "text": [
      "2^-2 case\n",
      "L2u Error: 0.05382465790162129\n",
      "L2p Error 0.3781500933831148\n",
      "L2u rate 1.3198847171986847\n",
      "L2p rate 0.28726162640826064\n",
      "2^-3 case\n",
      "L2u Error: 0.033629465851170964\n",
      "L2p Error 0.28690193222504773\n",
      "L2u rate 0.6785413807453843\n",
      "L2p rate 0.39840129079581366\n",
      "2^-4 case\n",
      "L2u Error: 0.024693556375375965\n",
      "L2p Error 0.23725374324423118\n",
      "L2u rate 0.4455912352729321\n",
      "L2p rate 0.27412683500678947\n",
      "2^-5 case\n",
      "L2u Error: 0.03583605437290778\n",
      "L2p Error 0.2909170439813212\n",
      "L2u rate -0.5372771733627266\n",
      "L2p rate -0.2941769728254092\n"
     ]
    }
   ],
   "source": [
    "formerL2p = 1\n",
    "currentL2p = 1\n",
    "formerL2u = 1\n",
    "currentL2u = 1\n",
    "sigma = 5\n",
    "for i in range(5):\n",
    "    # mesh = MeshTri()\n",
    "    m = MeshTri.init_symmetric()\n",
    "    m.refine(i)\n",
    "    element = {'u': ElementVectorH1(ElementTriP1CR()), 'p': ElementTriP0()}\n",
    "    basis = {\n",
    "        variable: InteriorBasis(m, e, intorder=4)\n",
    "        for variable, e in element.items()\n",
    "    }  # intorder: integration order for quadrature\n",
    "\n",
    "    \n",
    "    fbasis = FacetBasis(m, element['u'], intorder=4)\n",
    "    \n",
    "    p1 = asm(penalty_1, fbasis) \n",
    "    p2 = asm(penalty_2, fbasis) \n",
    "    p3 = asm(penalty_3, fbasis) \n",
    "    P = p1 + p2 + p3\n",
    "    \n",
    "    A = asm(vector_laplace, basis['u']) + P\n",
    "    B = asm(divergence, basis['u'], basis['p'])\n",
    "    C = asm(mass, basis['p'])\n",
    "\n",
    "    K = bmat([[A, -B.T], [-B, 1e-6 * C]],\n",
    "             'csr')  # get the sparse format of the result by 'csr'\n",
    "    f = np.concatenate([asm(body_force, basis['u']), np.zeros(B.shape[0])])\n",
    "    \n",
    "    up, _ = spl.minres(K, f)\n",
    "    \n",
    "    # up = solve(*condense(K, f, D=normal_boundary(basis['u'])), solver=solver_iter_krylov(spl.minres, tol=1e-11, show=False))\n",
    "    # up = solve(*condense(K, f, D=basis['u'].find_dofs()), solver=solver_iter_krylov(spl.minres, tol=1e-11, show=False))\n",
    "\n",
    "    uh, ph = np.split(up, [A.shape[0]])\n",
    "    # p = exactp(basis['p'].doflocs[0], basis['p'].doflocs[1])\n",
    "    # print((np.sqrt(np.sum((p-ph)**2)))/len(ph))\n",
    "    P = basis['p'].interpolate(ph).value\n",
    "    L2p = np.sqrt(L2Error_p.assemble(basis['p'], w=P))\n",
    "    U = basis['u'].interpolate(uh).value\n",
    "    L2u = np.sqrt(L2Error_u.assemble(basis['u'], w=U))\n",
    "    currentL2p = L2p\n",
    "    currentL2u = L2u\n",
    "    if i != 0:\n",
    "        print('2^-' + str(i + 1) + ' case')\n",
    "        print('L2u Error:', L2u)\n",
    "        print('L2p Error', L2p)\n",
    "        print('L2u rate', -np.log2(currentL2u / formerL2u))\n",
    "        print('L2p rate', -np.log2(currentL2p / formerL2p))\n",
    "    formerL2p = L2p\n",
    "    formerL2u = L2u"
   ]
  },
  {
   "cell_type": "code",
   "execution_count": 71,
   "metadata": {},
   "outputs": [
    {
     "name": "stdout",
     "output_type": "stream",
     "text": [
      "2^-2 case\n",
      "L2u Error: 0.05382465790162129\n",
      "L2p Error 0.3781500933831148\n",
      "L2u rate 1.3198847171986847\n",
      "L2p rate 0.28726162640826064\n",
      "2^-3 case\n",
      "L2u Error: 0.033629465851170964\n",
      "L2p Error 0.28690193222504773\n",
      "L2u rate 0.6785413807453843\n",
      "L2p rate 0.39840129079581366\n",
      "2^-4 case\n",
      "L2u Error: 0.024693556375375965\n",
      "L2p Error 0.23725374324423118\n",
      "L2u rate 0.4455912352729321\n",
      "L2p rate 0.27412683500678947\n",
      "2^-5 case\n",
      "L2u Error: 0.03583605437290778\n",
      "L2p Error 0.2909170439813212\n",
      "L2u rate -0.5372771733627266\n",
      "L2p rate -0.2941769728254092\n"
     ]
    }
   ],
   "source": [
    "formerL2p = 1\n",
    "currentL2p = 1\n",
    "formerL2u = 1\n",
    "currentL2u = 1\n",
    "sigma = 5\n",
    "for i in range(5):\n",
    "    # mesh = MeshTri()\n",
    "    m = MeshTri.init_symmetric()\n",
    "    m.refine(i)\n",
    "    element = {'u': ElementVectorH1(ElementTriP1CR()), 'p': ElementTriP0()}\n",
    "    basis = {\n",
    "        variable: InteriorBasis(m, e, intorder=4)\n",
    "        for variable, e in element.items()\n",
    "    }  # intorder: integration order for quadrature\n",
    "\n",
    "    \n",
    "    fbasis = FacetBasis(m, element['u'], intorder=4)\n",
    "    \n",
    "    p1 = asm(penalty_1, fbasis) \n",
    "    p2 = asm(penalty_2, fbasis) \n",
    "    p3 = asm(penalty_3, fbasis) \n",
    "    P = p1 + p2 + p3\n",
    "    \n",
    "    A = asm(vector_laplace, basis['u']) + P\n",
    "    B = asm(divergence, basis['u'], basis['p'])\n",
    "    C = asm(mass, basis['p'])\n",
    "\n",
    "    K = bmat([[A, -B.T], [-B, 1e-6 * C]],\n",
    "             'csr')  # get the sparse format of the result by 'csr'\n",
    "    f = np.concatenate([asm(body_force, basis['u']), np.zeros(B.shape[0])])\n",
    "    \n",
    "    up, _ = spl.minres(K, f)\n",
    "    \n",
    "    # up = solve(*condense(K, f, D=normal_boundary(basis['u'])), solver=solver_iter_krylov(spl.minres, tol=1e-11, show=False))\n",
    "    # up = solve(*condense(K, f, D=basis['u'].find_dofs()), solver=solver_iter_krylov(spl.minres, tol=1e-11, show=False))\n",
    "\n",
    "    uh, ph = np.split(up, [A.shape[0]])\n",
    "    # p = exactp(basis['p'].doflocs[0], basis['p'].doflocs[1])\n",
    "    # print((np.sqrt(np.sum((p-ph)**2)))/len(ph))\n",
    "    P = basis['p'].interpolate(ph).value\n",
    "    L2p = np.sqrt(L2Error_p.assemble(basis['p'], w=P))\n",
    "    U = basis['u'].interpolate(uh).value\n",
    "    L2u = np.sqrt(L2Error_u.assemble(basis['u'], w=U))\n",
    "    currentL2p = L2p\n",
    "    currentL2u = L2u\n",
    "    if i != 0:\n",
    "        print('2^-' + str(i + 1) + ' case')\n",
    "        print('L2u Error:', L2u)\n",
    "        print('L2p Error', L2p)\n",
    "        print('L2u rate', -np.log2(currentL2u / formerL2u))\n",
    "        print('L2p rate', -np.log2(currentL2p / formerL2p))\n",
    "    formerL2p = L2p\n",
    "    formerL2u = L2u"
   ]
  },
  {
   "cell_type": "markdown",
   "metadata": {},
   "source": [
    "# Original"
   ]
  },
  {
   "cell_type": "code",
   "execution_count": 10,
   "metadata": {},
   "outputs": [
    {
     "name": "stdout",
     "output_type": "stream",
     "text": [
      "2^-2 case\n",
      "L2u Error: 0.022877238694641165\n",
      "L2p Error 0.191058437310352\n",
      "L2u rate 0.9693896038730285\n",
      "L2p rate 0.6306275386753827\n",
      "2^-3 case\n",
      "L2u Error: 0.00684063432302261\n",
      "L2p Error 0.08433594314357606\n",
      "L2u rate 1.7417109122646732\n",
      "L2p rate 1.1797944401199743\n",
      "2^-4 case\n",
      "L2u Error: 0.0019121039085281534\n",
      "L2p Error 0.039873993093293404\n",
      "L2u rate 1.838969185407123\n",
      "L2p rate 1.0806995364745338\n",
      "2^-5 case\n",
      "L2u Error: 0.0004969343447816387\n",
      "L2p Error 0.019221536012063157\n",
      "L2u rate 1.944033765232154\n",
      "L2p rate 1.0527244601758676\n"
     ]
    }
   ],
   "source": [
    "formerL2p = 1\n",
    "currentL2p = 1\n",
    "formerL2u = 1\n",
    "currentL2u = 1\n",
    "for i in range(5):\n",
    "    # mesh = MeshTri()\n",
    "    mesh = MeshTri.init_symmetric()\n",
    "    mesh.refine(i)\n",
    "    element = {'u': ElementVectorH1(ElementTriP1CR()), 'p': ElementTriP0()}\n",
    "    basis = {\n",
    "        variable: InteriorBasis(mesh, e, intorder=4)\n",
    "        for variable, e in element.items()\n",
    "    }  # intorder: integration order for quadrature\n",
    "\n",
    "\n",
    "    \n",
    "    A = asm(vector_laplace, basis['u'])\n",
    "    B = asm(divergence, basis['u'], basis['p'])\n",
    "    C = asm(mass, basis['p'])\n",
    "\n",
    "    K = bmat([[A, -B.T], [-B, 1e-6 * C]],\n",
    "             'csr')  # get the sparse format of the result by 'csr'\n",
    "    f = np.concatenate([asm(body_force, basis['u']), np.zeros(B.shape[0])])\n",
    "\n",
    "    up = solve(*condense(K, f, D=basis['u'].find_dofs()), solver=solver_iter_krylov(spl.minres, tol=1e-13, show=False))\n",
    "    # up = solve(*condense(K, f, D=basis['u'].find_dofs()), solver=solver_iter_krylov(spl.minres, tol=1e-11, show=False))\n",
    "\n",
    "    uh, ph = np.split(up, [A.shape[0]])\n",
    "    # p = exactp(basis['p'].doflocs[0], basis['p'].doflocs[1])\n",
    "    # print((np.sqrt(np.sum((p-ph)**2)))/len(ph))\n",
    "    P = basis['p'].interpolate(ph).value\n",
    "    L2p = np.sqrt(L2Error_p.assemble(basis['p'], w=P))\n",
    "    U = basis['u'].interpolate(uh).value\n",
    "    L2u = np.sqrt(L2Error_u.assemble(basis['u'], w=U))\n",
    "    currentL2p = L2p\n",
    "    currentL2u = L2u\n",
    "    if i != 0:\n",
    "        print('2^-' + str(i + 1) + ' case')\n",
    "        print('L2u Error:', L2u)\n",
    "        print('L2p Error', L2p)\n",
    "        print('L2u rate', -np.log2(currentL2u / formerL2u))\n",
    "        print('L2p rate', -np.log2(currentL2p / formerL2p))\n",
    "    formerL2p = L2p\n",
    "    formerL2u = L2u"
   ]
  },
  {
   "cell_type": "code",
   "execution_count": null,
   "metadata": {},
   "outputs": [],
   "source": []
  }
 ],
 "metadata": {
  "kernelspec": {
   "display_name": "Python 3",
   "language": "python",
   "name": "python3"
  },
  "language_info": {
   "codemirror_mode": {
    "name": "ipython",
    "version": 3
   },
   "file_extension": ".py",
   "mimetype": "text/x-python",
   "name": "python",
   "nbconvert_exporter": "python",
   "pygments_lexer": "ipython3",
   "version": "3.7.4"
  },
  "toc": {
   "base_numbering": 1,
   "nav_menu": {},
   "number_sections": true,
   "sideBar": true,
   "skip_h1_title": false,
   "title_cell": "Table of Contents",
   "title_sidebar": "Contents",
   "toc_cell": false,
   "toc_position": {
    "height": "calc(100% - 180px)",
    "left": "10px",
    "top": "150px",
    "width": "249.389px"
   },
   "toc_section_display": true,
   "toc_window_display": false
  },
  "varInspector": {
   "cols": {
    "lenName": 16,
    "lenType": 16,
    "lenVar": 40
   },
   "kernels_config": {
    "python": {
     "delete_cmd_postfix": "",
     "delete_cmd_prefix": "del ",
     "library": "var_list.py",
     "varRefreshCmd": "print(var_dic_list())"
    },
    "r": {
     "delete_cmd_postfix": ") ",
     "delete_cmd_prefix": "rm(",
     "library": "var_list.r",
     "varRefreshCmd": "cat(var_dic_list()) "
    }
   },
   "types_to_exclude": [
    "module",
    "function",
    "builtin_function_or_method",
    "instance",
    "_Feature"
   ],
   "window_display": false
  }
 },
 "nbformat": 4,
 "nbformat_minor": 2
}
