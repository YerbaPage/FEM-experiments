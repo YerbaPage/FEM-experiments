{
 "cells": [
  {
   "cell_type": "markdown",
   "metadata": {},
   "source": [
    "# Stokes"
   ]
  },
  {
   "cell_type": "code",
   "execution_count": 6,
   "metadata": {},
   "outputs": [
    {
     "name": "stdout",
     "output_type": "stream",
     "text": [
      "\n"
     ]
    }
   ],
   "source": [
    "open femPoisson"
   ]
  },
  {
   "cell_type": "markdown",
   "metadata": {},
   "source": [
    "## Introduction"
   ]
  },
  {
   "cell_type": "markdown",
   "metadata": {},
   "source": [
    "[u,p] = STOKES(node,elem,pde,bdFlag) use continuous and piecewise\n",
    "quadratic element for velocity u = [u1,u2] and continuous and piceswise\n",
    "linear element for pressure p to approximate the Stokes equations\n",
    "\n",
    "    -div(mu*grad u) + grad p = f in \\Omega,\n",
    "                     - div u = 0  in \\Omega,\n",
    "with \n",
    "    Dirichlet boundary condition        u = g_D  on \\Gamma_D, \n",
    "    Neumann boundary condition du/dn - np = g_N  on \\Gamma_N.\n",
    "\n",
    "The mesh is given by node and elem and the boundary edge is given by\n",
    "bdFlag. See meshdoc, bddoc for details. The data is given by the\n",
    "structure pde which contains function handles f, g_D, g_N, and mu.\n",
    "\n",
    "[u,p,edge,A,eqn,info] = STOKES(node,elem,pde,bdFlag,option) also\n",
    "returns the edge structure of the mesh, the matrix A for the Laplace\n",
    "operator, the eqn strcuture, and the info structure for solver information. \n",
    "  - eqn.AD: modified Laplace matrix\n",
    "  - eqn.BD: modified negative divergence matrix\n",
    "  - eqn.f:  vector f\n",
    "  - eqn.g:  vector g\n",
    "\n",
    "The solution [u,p] satisfy the saddle point problem:\n",
    "  [AD BD'][u] = [f]\n",
    "  [BD  0 ][p] = [g]\n",
    "\n",
    "In the modified matrices AD, BD, the Dirichlet boundary condition of u\n",
    "is built-into the equation as I_{\\Gamma_D} u_D = g_D. The Neumann\n",
    "boundary condition is built-into f by boundary integrals.\n",
    "\n",
    "Users can chose other elements and specifies the solver options.\n",
    "  - option.fem: various elements for Stokes equations\n",
    "    * 'P2P1'    P2-P1 Taylor-Hood elements\n",
    "    * 'P2P0'    P2-P0 elements\n",
    "    * 'isoP2P0' P1(refined mesh)-P0 elements\n",
    "    * 'isoP2P1' P1(refined mesh)-P1 elements\n",
    "    * 'CRP0'    nonconforming P1 (CR)-P0 elements\n",
    "    * 'Mini'    P1+B-P1 elements\n",
    "\n",
    "  - option.solver: various solvers for Stokes system\n",
    "    * 'direct'  the built in direct solver \\ (mldivide)\n",
    "    * 'uzawa'   inexact (augmented) Uzawa's method  \n",
    "    * 'mg'      multigrid based on DGS smoother\n",
    "    * 'blkdiag' block diagonal preconditioned MINRES\n",
    "    * 'blktri'  block triangular preconditioned GMRES\n",
    "The default setting is to use the direct solver for small size problems\n",
    "and 'blkdiag' mehthod for large size problems."
   ]
  },
  {
   "cell_type": "markdown",
   "metadata": {},
   "source": [
    "## Variables"
   ]
  },
  {
   "cell_type": "code",
   "execution_count": 18,
   "metadata": {},
   "outputs": [
    {
     "name": "stdout",
     "output_type": "stream",
     "text": [
      "\n"
     ]
    }
   ],
   "source": [
    "close all; \n",
    "clear variables;\n",
    "%% Set up\n",
    "maxIt = 4;\n",
    "N = zeros(maxIt,1); \n",
    "h = zeros(maxIt,1);\n",
    "erru = zeros(maxIt,1); \n",
    "errp = zeros(maxIt,1);\n",
    "\n",
    "%% Generate initial mesh\n",
    "[node,elem] = squaremesh([0 1 0 1], 0.25);\n",
    "bdFlag = setboundary(node,elem,'Dirichlet');\n",
    "\n",
    "%% PDE and options\n",
    "pde = Stokesdata1;\n",
    "% pde = Stokesdata3;"
   ]
  },
  {
   "cell_type": "code",
   "execution_count": 19,
   "metadata": {},
   "outputs": [
    {
     "name": "stdout",
     "output_type": "stream",
     "text": [
      "\n"
     ]
    }
   ],
   "source": [
    "%% Generate initial mesh\n",
    "[node,elem] = squaremesh([0 1 0 1], 0.25);\n",
    "bdFlag = setboundary(node,elem,'Dirichlet');\n",
    "\n",
    "%% PDE and options \n",
    "pde = Stokesdata1; \n",
    "% pde = Stokesdata3; "
   ]
  },
  {
   "cell_type": "code",
   "execution_count": 1,
   "metadata": {},
   "outputs": [
    {
     "name": "stdout",
     "output_type": "stream",
     "text": [
      "  DOFP2 dof structure for P2 element.\n",
      " \n",
      "   [elem2dof,edge,bdDof] = DOFP2(elem) constructs the dof structure for the\n",
      "   quadratic element based on a triangle. elem2dof(t,i) is the global index\n",
      "   of the i-th dof of the t-th element. Each triangle contains 6 dofs which\n",
      "   are organized according to the order of nodes and edges, i.e.\n",
      "   elem2dof(t,1:3) is the pointer to dof on nodes and elem2dof(t,4:6) to\n",
      "   three edges. The i-th edge is opposited to the i-th vertex.\n",
      " \n",
      "   See also dof3P2.\n",
      "  \n",
      "   Documentation: <a href=\"matlab:ifem PoissonP2femrate\">Quadratic Element\n",
      "   for Poisson Equation in 2D</a>\n",
      " \n",
      "  Copyright (C) Long Chen. See COPYRIGHT.txt for details.\n",
      "\n",
      "\n"
     ]
    }
   ],
   "source": [
    "help "
   ]
  },
  {
   "cell_type": "markdown",
   "metadata": {},
   "source": [
    "## Process"
   ]
  },
  {
   "cell_type": "code",
   "execution_count": 20,
   "metadata": {},
   "outputs": [
    {
     "name": "stdout",
     "output_type": "stream",
     "text": [
      "\n"
     ]
    }
   ],
   "source": [
    "if ~exist('option','var'), option = []; end\n",
    "\n",
    "t = cputime;\n",
    "%% Construct Data Structure\n",
    "[elem2dof,edge,bdDof] = dofP2(elem);\n",
    "N = size(node,1);  NT = size(elem,1);  Nu = N+size(edge,1);  Np = N;\n",
    "\n",
    "%% Compute geometric quantities and gradient of local basis\n",
    "[Dlambda,area] = gradbasis(node,elem);\n",
    "\n",
    "%% Assemble stiffness matrix for Laplace operator\n",
    "% generate sparse pattern\n",
    "ii = zeros(21*NT,1); jj = zeros(21*NT,1); \n",
    "index = 0;\n",
    "for i = 1:6\n",
    "    for j = i:6\n",
    "        ii(index+1:index+NT) = double(elem2dof(:,i)); \n",
    "        jj(index+1:index+NT) = double(elem2dof(:,j));  \n",
    "        index = index + NT;\n",
    "    end\n",
    "end\n",
    "% quadrature points\n",
    "if ~isfield(pde,'nu'), pde.nu = []; end\n",
    "if ~isfield(option,'quadorder')\n",
    "    % constant viscosity\n",
    "    option.quadorder = 2;        % default order\n",
    "    if ~isempty(pde.nu) && isnumeric(pde.nu) % numerical viscosity\n",
    "        option.quadorder = 3;    % exact for linear diffusion coefficient\n",
    "    end\n",
    "end\n",
    "[lambda, w] = quadpts(option.quadorder);\n",
    "nQuad = size(lambda,1);\n",
    "% compute non-zeros\n",
    "sA = zeros(21*NT,nQuad);\n",
    "for p = 1:nQuad\n",
    "    % Dphi at quadrature points\n",
    "    Dphip(:,:,6) = 4*(lambda(p,1)*Dlambda(:,:,2)+lambda(p,2)*Dlambda(:,:,1));\n",
    "    Dphip(:,:,5) = 4*(lambda(p,3)*Dlambda(:,:,1)+lambda(p,1)*Dlambda(:,:,3));\n",
    "    Dphip(:,:,4) = 4*(lambda(p,2)*Dlambda(:,:,3)+lambda(p,3)*Dlambda(:,:,2));\n",
    "    Dphip(:,:,1) = (4*lambda(p,1)-1).*Dlambda(:,:,1);            \n",
    "    Dphip(:,:,2) = (4*lambda(p,2)-1).*Dlambda(:,:,2);            \n",
    "    Dphip(:,:,3) = (4*lambda(p,3)-1).*Dlambda(:,:,3);            \n",
    "    index = 0;\n",
    "    for i = 1:6\n",
    "        for j = i:6\n",
    "            Aij = 0;\n",
    "            if isempty(pde.nu) || isnumeric(pde.nu)\n",
    "                Aij = Aij + w(p)*dot(Dphip(:,:,i),Dphip(:,:,j),2);\n",
    "            else\n",
    "                pxy = lambda(p,1)*node(elem(:,1),:) ...\n",
    "                    + lambda(p,2)*node(elem(:,2),:) ...\n",
    "                    + lambda(p,3)*node(elem(:,3),:);\n",
    "                Aij = Aij + w(p)*dot(Dphip(:,:,i),Dphip(:,:,j),2).*pde.d(pxy);\n",
    "            end\n",
    "            if ~isempty(pde.nu) && (pde.nu~=1)\n",
    "                Aij = pde.nu*Aij;\n",
    "            end\n",
    "            Aij = Aij.*area;\n",
    "            sA(index+1:index+NT,p) = Aij;\n",
    "            index = index + NT;\n",
    "        end\n",
    "    end\n",
    "end\n",
    "sA = sum(sA,2);\n",
    "% assemble the matrix\n",
    "diagIdx = (ii == jj);upperIdx = ~diagIdx;\n",
    "A = sparse(ii(diagIdx),jj(diagIdx),sA(diagIdx),Nu,Nu);\n",
    "AU = sparse(ii(upperIdx),jj(upperIdx),sA(upperIdx),Nu,Nu);\n",
    "A = A + AU + AU';\n",
    "A = blkdiag(A,A);\n",
    "clear Aij ii jj sA\n",
    "\n",
    "%% Assemble the matrix for divergence operator\n",
    "Dx = sparse(Np,Nu);\n",
    "Dy = sparse(Np,Nu);\n",
    "[lambda, w] = quadpts(2); % (div(P2), P1) is P2\n",
    "nQuad = size(lambda,1);\n",
    "for p = 1:nQuad\n",
    "    % Dphi at quadrature points\n",
    "    Dphip(:,:,1) = (4*lambda(p,1)-1).*Dlambda(:,:,1);            \n",
    "    Dphip(:,:,2) = (4*lambda(p,2)-1).*Dlambda(:,:,2);            \n",
    "    Dphip(:,:,3) = (4*lambda(p,3)-1).*Dlambda(:,:,3);            \n",
    "    Dphip(:,:,4) = 4*(lambda(p,2)*Dlambda(:,:,3)+lambda(p,3)*Dlambda(:,:,2));\n",
    "    Dphip(:,:,5) = 4*(lambda(p,3)*Dlambda(:,:,1)+lambda(p,1)*Dlambda(:,:,3));\n",
    "    Dphip(:,:,6) = 4*(lambda(p,1)*Dlambda(:,:,2)+lambda(p,2)*Dlambda(:,:,1));    \n",
    "    for i = 1:6 \n",
    "        for j = 1:3\n",
    "            Dxij = 0;\n",
    "            Dyij = 0;\n",
    "            Dxij = Dxij + w(p)*Dphip(:,1,i).*lambda(p,j);\n",
    "            Dyij = Dyij + w(p)*Dphip(:,2,i).*lambda(p,j);\n",
    "            Dx = Dx + sparse(elem(:,j),double(elem2dof(:,i)),Dxij.*area,Np,Nu);\n",
    "            Dy = Dy + sparse(elem(:,j),double(elem2dof(:,i)),Dyij.*area,Np,Nu);\n",
    "        end\n",
    "    end\n",
    "end\n",
    "B = -[Dx Dy];\n",
    "clear Dxij Dyij Dx Dy Dphip\n",
    "\n",
    "%% Assemble right hand side\n",
    "f1 = zeros(Nu,1);\n",
    "f2 = zeros(Nu,1);\n",
    "if ~isfield(option,'fquadorder')\n",
    "    option.fquadorder = 4;   % default order\n",
    "end\n",
    "if ~isfield(pde,'f') || (isreal(pde.f) && (pde.f==0))\n",
    "    pde.f = [];\n",
    "end\n",
    "if ~isempty(pde.f) \n",
    "    % quadrature points in the barycentric coordinate\n",
    "    [lambda,weight] = quadpts(option.fquadorder);\n",
    "    % basis values at quadrature points\n",
    "    phi(:,1) = lambda(:,1).*(2*lambda(:,1)-1);\n",
    "    phi(:,2) = lambda(:,2).*(2*lambda(:,2)-1);\n",
    "    phi(:,3) = lambda(:,3).*(2*lambda(:,3)-1);\n",
    "    phi(:,4) = 4*lambda(:,2).*lambda(:,3);\n",
    "    phi(:,5) = 4*lambda(:,3).*lambda(:,1);\n",
    "    phi(:,6) = 4*lambda(:,1).*lambda(:,2);\n",
    "    nQuad = size(lambda,1);\n",
    "    ft1 = zeros(NT,6);\n",
    "    ft2 = zeros(NT,6);\n",
    "    for p = 1:nQuad\n",
    "        % quadrature points in the x-y coordinate\n",
    "        pxy = lambda(p,1)*node(elem(:,1),:) ...\n",
    "            + lambda(p,2)*node(elem(:,2),:) ...\n",
    "            + lambda(p,3)*node(elem(:,3),:);\n",
    "        % function values at quadrature points\n",
    "        fp = pde.f(pxy);\n",
    "        % evaluate fp outside.\n",
    "        for j = 1:6\n",
    "            ft1(:,j) = ft1(:,j) + fp(:,1).*phi(p,j)*weight(p);\n",
    "            ft2(:,j) = ft2(:,j) + fp(:,2).*phi(p,j)*weight(p);\n",
    "        end\n",
    "    end\n",
    "    ft1 = ft1.*repmat(area,1,6);\n",
    "    ft2 = ft2.*repmat(area,1,6);\n",
    "    f1 = accumarray(elem2dof(:),ft1(:),[Nu 1]);\n",
    "    f2 = accumarray(elem2dof(:),ft2(:),[Nu 1]);\n",
    "end\n",
    "clear phi ft1 ft2"
   ]
  },
  {
   "cell_type": "code",
   "execution_count": 21,
   "metadata": {
    "collapsed": true
   },
   "outputs": [
    {
     "name": "stdout",
     "output_type": "stream",
     "text": [
      "\n",
      "ans = \n",
      "\n",
      "  Patch with properties:\n",
      "\n",
      "    FaceColor: [0.5000 0.9000 0.4500]\n",
      "    FaceAlpha: 1\n",
      "    EdgeColor: [0 0 0]\n",
      "    LineStyle: '-'\n",
      "        Faces: [32x3 double]\n",
      "     Vertices: [25x3 double]\n",
      "\n",
      "  Use GET to show all properties\n",
      "\n",
      "\n"
     ]
    },
    {
     "data": {
      "image/png": "[encoded data removed]",
      "text/plain": [
       "<IPython.core.display.Image object>"
      ]
     },
     "metadata": {},
     "output_type": "display_data"
    }
   ],
   "source": [
    "showmesh(node,elem)"
   ]
  },
  {
   "cell_type": "markdown",
   "metadata": {
    "heading_collapsed": true
   },
   "source": [
    "## Getbd"
   ]
  },
  {
   "cell_type": "code",
   "execution_count": 22,
   "metadata": {
    "hidden": true
   },
   "outputs": [
    {
     "name": "stdout",
     "output_type": "stream",
     "text": [
      "\n"
     ]
    }
   ],
   "source": [
    "g = zeros(Np,1);\n",
    "u = zeros(2*Nu,1);    \n",
    "p = zeros(Np,1);\n",
    "ufreeDof = (1:Nu)';\n",
    "pDof = (1:Np)';\n",
    "\n",
    "if ~exist('bdFlag','var'), bdFlag = []; end\n",
    "if ~isfield(pde,'g_D'), pde.g_D = []; end\n",
    "if ~isfield(pde,'g_N'), pde.g_N = []; end\n",
    "if ~isfield(pde,'g_R'), pde.g_R = []; end\n",
    "\n",
    "%% Part 1: Find Dirichlet dof and modify the matrix\n",
    "% Find Dirichlet boundary dof: fixedDof and pDof\n",
    "isFixedDof = false(Nu,1);     \n",
    "if ~isempty(bdFlag)       % case: bdFlag is not empty \n",
    "    elem2edge = elem2dof(:,4:6)-N;\n",
    "    isDirichlet(elem2edge(bdFlag(:)==1)) = true;\n",
    "    isFixedDof(edge(isDirichlet,:)) = true;   % nodes of all D-edges\n",
    "    isFixedDof(N + find(isDirichlet')) = true;% dof on D-edges\n",
    "    fixedDof = find(isFixedDof);\n",
    "    ufreeDof = find(~isFixedDof);            \n",
    "end\n",
    "if isempty(bdFlag) && ~isempty(pde.g_D) && isempty(pde.g_N) && isempty(pde.g_R)\n",
    "    fixedDof = bdDof; \n",
    "    isFixedDof(fixedDof) = true;\n",
    "    ufreeDof = find(~isFixedDof);    \n",
    "end\n",
    "if isempty(fixedDof) % pure Neumann boundary condition\n",
    "    % pde.g_N could be empty which is homogenous Neumann boundary condition\n",
    "    fixedDof = 1;\n",
    "    ufreeDof = (2:Nu)';    % eliminate the kernel by enforcing u(1) = 0;\n",
    "end\n",
    "\n",
    "% Modify the matrix\n",
    "% Build Dirichlet boundary condition into the matrix AD by enforcing\n",
    "% AD(fixedDof,fixedDof)=I, AD(fixedDof,ufreeDof)=0, AD(ufreeDof,fixedDof)=0.\n",
    "% BD(:,fixedDof) = 0 and thus BD'(fixedDof,:) = 0.\n",
    "bdidx = zeros(2*Nu,1); \n",
    "bdidx([fixedDof; Nu+fixedDof]) = 1;\n",
    "Tbd = spdiags(bdidx,0,2*Nu,2*Nu);\n",
    "T = spdiags(1-bdidx,0,2*Nu,2*Nu);\n",
    "AD = T*A*T + Tbd;\n",
    "BD = B*T;\n",
    "\n",
    "%% Part 2: Find boundary edges and modify the right hand side f and g\n",
    "% Find boundary edges: Neumann and Robin\n",
    "Neumann = []; Robin = []; %#ok<*NASGU>\n",
    "if ~isempty(bdFlag)\n",
    "    isNeumann(elem2edge((bdFlag(:)==2)|(bdFlag(:) == 3))) = true;\n",
    "    isRobin(elem2edge(bdFlag(:)==3)) = true;\n",
    "    Neumannidx = find(isNeumann);        \n",
    "    Neumann   = edge(isNeumann,:);\n",
    "    Robin     = edge(isRobin,:);\n",
    "end\n",
    "if isempty(bdFlag) && (~isempty(pde.g_N) || ~isempty(pde.g_R))\n",
    "    % no bdFlag, only pde.g_N or pde.g_R is given in the input\n",
    "    Neumann = edge(bdDof>N,:);\n",
    "    if ~isempty(pde.g_R)\n",
    "        Robin = Neumann;\n",
    "    end\n",
    "end\n",
    "\n",
    "% Neumann boundary condition\n",
    "if ~isempty(pde.g_N) && ~isempty(Neumann) && ~(isnumeric(pde.g_N) && (pde.g_N == 0))\n",
    "    [lambda,w] = quadpts1(3);\n",
    "    nQuad = size(lambda,1);\n",
    "    % quadratic bases (1---3---2)\n",
    "    bdphi(:,1) = (2*lambda(:,1)-1).*lambda(:,1);\n",
    "    bdphi(:,2) = (2*lambda(:,2)-1).*lambda(:,2);\n",
    "    bdphi(:,3) = 4*lambda(:,1).*lambda(:,2);\n",
    "    % length of edge\n",
    "    ve = node(Neumann(:,1),:) - node(Neumann(:,2),:);\n",
    "    edgeLength = sqrt(sum(ve.^2,2));\n",
    "    % update RHS\n",
    "    gex = zeros(size(Neumann,1),2);   % x-component\n",
    "    gey = zeros(size(Neumann,1),2);   % y-component\n",
    "    for pp = 1:nQuad\n",
    "        pxy = lambda(pp,1)*node(Neumann(:,1),:)+lambda(pp,2)*node(Neumann(:,2),:);\n",
    "        gp = pde.g_N(pxy);\n",
    "        gex(:,1) = gex(:,1) + w(pp)*edgeLength.*gp(:,1)*bdphi(pp,1);\n",
    "        gex(:,2) = gex(:,2) + w(pp)*edgeLength.*gp(:,1)*bdphi(pp,2);\n",
    "        gey(:,1) = gey(:,1) + w(pp)*edgeLength.*gp(:,2)*bdphi(pp,1);\n",
    "        gey(:,2) = gey(:,2) + w(pp)*edgeLength.*gp(:,2)*bdphi(pp,2);\n",
    "        f1(N+Neumannidx) = f1(N+Neumannidx) + w(pp)*edgeLength.*gp(:,1)*bdphi(pp,3); % interior bubble\n",
    "        f2(N+Neumannidx) = f2(N+Neumannidx) + w(pp)*edgeLength.*gp(:,2)*bdphi(pp,3); % interior bubble\n",
    "    end\n",
    "    f1(1:N) = f1(1:N) + accumarray(Neumann(:), gex(:),[N,1]);\n",
    "    f2(1:N) = f2(1:N) + accumarray(Neumann(:), gey(:),[N,1]);\n",
    "end\n",
    "f = [f1; f2];\n",
    "% The case non-empty Neumann but g_N=[] corresponds to the zero flux\n",
    "% boundary condition on Neumann edges and no modification is needed.\n",
    "\n",
    "% Dirichlet boundary conditions\n",
    "if ~isempty(fixedDof) && ~isempty(pde.g_D) && ~(isnumeric(pde.g_D) && (pde.g_D == 0))\n",
    "    u1 = zeros(Nu,1);\n",
    "    u2 = zeros(Nu,1);\n",
    "    idx = (fixedDof > N);              % index of edge dof\n",
    "    uD = pde.g_D(node(fixedDof(~idx),:));  % bd value at vertex dofs    \n",
    "    u1(fixedDof(~idx)) = uD(:,1);\n",
    "    u2(fixedDof(~idx)) = uD(:,2);\n",
    "    bdEdgeIdx = fixedDof(idx)-N;\n",
    "    bdEdgeMid = (node(edge(bdEdgeIdx,1),:)+node(edge(bdEdgeIdx,2),:))/2;\n",
    "    uD = pde.g_D(bdEdgeMid);         % bd values at middle points of edges\n",
    "    u1(fixedDof(idx)) = uD(:,1);\n",
    "    u2(fixedDof(idx)) = uD(:,2);\n",
    "    u = [u1; u2]; % Dirichlet bd condition is built into u\n",
    "    f = f - A*u;  % bring affect of nonhomgenous Dirichlet bd condition to\n",
    "    g = g - B*u;  % the right hand side\n",
    "    g = g - mean(g);         \n",
    "    f(fixedDof) = u1(fixedDof);\n",
    "    f(fixedDof+Nu) = u2(fixedDof);\n",
    "end\n",
    "% The case non-empty Dirichlet but g_D=[] corresponds to the zero Dirichlet\n",
    "% boundary condition and no modification is needed.\n",
    "\n",
    "% modfiy pressure dof for pure Dirichlet\n",
    "if isempty(Neumann)\n",
    "    pDof = (1:Np-1)';\n",
    "end\n",
    "\n",
    "ufreeDof = [ufreeDof; Nu+ufreeDof];"
   ]
  },
  {
   "cell_type": "markdown",
   "metadata": {
    "heading_collapsed": true
   },
   "source": [
    "## Solving"
   ]
  },
  {
   "cell_type": "code",
   "execution_count": 23,
   "metadata": {
    "hidden": true
   },
   "outputs": [
    {
     "name": "stdout",
     "output_type": "stream",
     "text": [
      "\n"
     ]
    }
   ],
   "source": [
    "%% Record assembeling time\n",
    "assembleTime = cputime - t;\n",
    "if ~isfield(option,'printlevel'), option.printlevel = 1; end\n",
    "if option.printlevel >= 2\n",
    "    fprintf('Time to assemble matrix equation %4.2g s\\n',assembleTime);\n",
    "end\n",
    "\n",
    "%% Solve the system of linear equations\n",
    "if isempty(ufreeDof), return; end\n",
    "if isempty(option) || ~isfield(option,'solver')    % no option.solver\n",
    "    if length(f)+length(g) <= 1e3  % Direct solver for small size systems\n",
    "        option.solver = 'direct';\n",
    "    else          % Multigrid-type  solver for large size systems\n",
    "        option.solver = 'asmg';\n",
    "    end\n",
    "end\n",
    "solver = option.solver;\n",
    "\n",
    "% solve\n",
    "switch solver\n",
    "    case 'none'\n",
    "        info = struct('solverTime',[],'itStep',0,'err',[],'flag',3,'stopErr',[]);        \n",
    "    case 'direct'\n",
    "        t = cputime;\n",
    "        bigA = [AD, B'; ...\n",
    "                B, sparse(Np,Np)];\n",
    "        bigF = [f; g];\n",
    "        bigu = [u; p];\n",
    "        bigFreeDof = [ufreeDof; 2*Nu+pDof];\n",
    "        bigu(bigFreeDof) = bigA(bigFreeDof,bigFreeDof)\\bigF(bigFreeDof);\n",
    "        u = bigu(1:2*Nu);\n",
    "        p = bigu(2*Nu+1:end);\n",
    "        residual = norm(bigF - bigA*bigu);\n",
    "        info = struct('solverTime',cputime - t,'itStep',0,'err',residual,'flag',2,'stopErr',residual);     \n",
    "    case 'mg'\n",
    "%         option.tol = Np^(-2);        \n",
    "        option.solver  = 'WCYCLE';\n",
    "        [u(ufreeDof),p,info] = mgstokes(A(ufreeDof,ufreeDof),B(:,ufreeDof),f(ufreeDof),g,...\n",
    "                                        u(ufreeDof),p,elem,ufreeDof,option);         \n",
    "    case 'asmg'\n",
    "        [u(ufreeDof),p,info] = asmgstokes(A(ufreeDof,ufreeDof),B(:,ufreeDof),f(ufreeDof),g,...\n",
    "                                          u,p,node,elem,bdFlag,ufreeDof,option); \n",
    "end\n",
    "\n",
    "%% Post-process\n",
    "if length(pDof) ~= Np % p is unique up to a constant\n",
    "    % impose the condition int(p)=0\n",
    "    c = sum(mean(p(elem),2).*area)/sum(area);\n",
    "    p = p - c;\n",
    "end\n",
    "\n",
    "%% Output\n",
    "soln = struct('u',u,'p',p);\n",
    "eqn = struct('A',AD,'B',BD,'Lap',A,'f',f,'g',g,...\n",
    "             'edge',edge,'ufreeDof',ufreeDof,'pDof',pDof);\n",
    "info.assembleTime = assembleTime;"
   ]
  },
  {
   "cell_type": "code",
   "execution_count": 24,
   "metadata": {
    "hidden": true,
    "scrolled": true
   },
   "outputs": [
    {
     "name": "stdout",
     "output_type": "stream",
     "text": [
      "\n"
     ]
    }
   ],
   "source": [
    "% [node,elem,bdFlag] = uniformrefine(node,elem,bdFlag);\n",
    "% % solve the equation\n",
    "% [soln,eqn] = StokesP2P1(node,elem,bdFlag,pde);\n",
    "% %     [soln,eqn] = StokesP2P0(node,elem,bdFlag,pde);\n",
    "% %     [soln,eqn] = StokesisoP2P1(node,elem,bdFlag,pde);\n",
    "% %     [soln,eqn] = StokesisoP2P0(node,elem,bdFlag,pde);\n",
    "% %     [soln,eqn] = StokesCRP0(node,elem,bdFlag,pde);\n",
    "% %     [soln,eqn] = StokesP1bP1(node,elem,bdFlag,pde);\n",
    "uh = soln.u;\n",
    "ph = soln.p;\n",
    "% N(k) = length(uh)+length(ph);\n",
    "% h(k) = 1./(sqrt(size(node,1))-1);"
   ]
  },
  {
   "cell_type": "markdown",
   "metadata": {
    "heading_collapsed": true
   },
   "source": [
    "## Plotting convergence rates"
   ]
  },
  {
   "cell_type": "code",
   "execution_count": null,
   "metadata": {
    "hidden": true
   },
   "outputs": [],
   "source": [
    "%% Plot convergence rates\n",
    "% figure(2);\n",
    "% showrateh2(h,erru,1,'-*','|u_I-u_h|_1',...\n",
    "%            h,errp,1,'m-+','|| p-p_h||');\n",
    "\n",
    "% fprintf('\\n');\n",
    "% disp('Table: Error')\n",
    "% colname = {'#Dof','h','|u_I-u_h|_1','||p-p_h||'};\n",
    "% disptable(colname,N,[],h,'%0.3e',erru,'%0.5e',errp,'%0.5e');\n",
    "% figure;\n",
    "% set(gcf,'Units','normal'); \n",
    "% set(gcf,'Position',[0.25,0.25,0.55,0.4]);"
   ]
  },
  {
   "cell_type": "code",
   "execution_count": 1,
   "metadata": {
    "hidden": true
   },
   "outputs": [
    {
     "name": "stdout",
     "output_type": "stream",
     "text": [
      "\n"
     ]
    }
   ],
   "source": [
    "workspace"
   ]
  },
  {
   "cell_type": "code",
   "execution_count": null,
   "metadata": {
    "hidden": true
   },
   "outputs": [],
   "source": []
  }
 ],
 "metadata": {
  "kernelspec": {
   "display_name": "Matlab",
   "language": "matlab",
   "name": "matlab"
  },
  "language_info": {
   "codemirror_mode": "octave",
   "file_extension": ".m",
   "help_links": [
    {
     "text": "MetaKernel Magics",
     "url": "https://metakernel.readthedocs.io/en/latest/source/README.html"
    }
   ],
   "mimetype": "text/x-octave",
   "name": "matlab",
   "version": "0.16.9"
  },
  "toc": {
   "base_numbering": 1,
   "nav_menu": {},
   "number_sections": true,
   "sideBar": true,
   "skip_h1_title": false,
   "title_cell": "Table of Contents",
   "title_sidebar": "Contents",
   "toc_cell": false,
   "toc_position": {
    "height": "750px",
    "left": "190px",
    "top": "106px",
    "width": "324.391px"
   },
   "toc_section_display": true,
   "toc_window_display": false
  }
 },
 "nbformat": 4,
 "nbformat_minor": 2
}
