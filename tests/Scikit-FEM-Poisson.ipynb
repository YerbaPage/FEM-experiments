{
 "cells": [
  {
   "cell_type": "markdown",
   "metadata": {},
   "source": [
    "# Solving Poisson equation with skfem\n",
    "- Codes: https://github.com/kinnala/scikit-fem/tree/master/skfem\n",
    "- Docs: https://scikit-fem.readthedocs.io/en/latest/"
   ]
  },
  {
   "cell_type": "markdown",
   "metadata": {},
   "source": [
    "## Installing"
   ]
  },
  {
   "cell_type": "code",
   "execution_count": 1,
   "metadata": {},
   "outputs": [
    {
     "output_type": "stream",
     "name": "stdout",
     "text": [
      "Requirement already satisfied: scikit-fem in c:\\users\\asus\\anaconda3\\lib\\site-packages (2.1.1)\nRequirement already satisfied: meshio>=4.0.4 in c:\\users\\asus\\anaconda3\\lib\\site-packages (from scikit-fem) (4.2.2)\nRequirement already satisfied: numpy in c:\\users\\asus\\anaconda3\\lib\\site-packages (from scikit-fem) (1.18.1)\nRequirement already satisfied: scipy in c:\\users\\asus\\anaconda3\\lib\\site-packages (from scikit-fem) (1.4.1)\nRequirement already satisfied: importlib-metadata; python_version < \"3.8\" in c:\\users\\asus\\anaconda3\\lib\\site-packages (from meshio>=4.0.4->scikit-fem) (2.0.0)\nRequirement already satisfied: zipp>=0.5 in c:\\users\\asus\\anaconda3\\lib\\site-packages (from importlib-metadata; python_version < \"3.8\"->meshio>=4.0.4->scikit-fem) (3.3.0)\nNote: you may need to restart the kernel to use updated packages.\n"
     ]
    }
   ],
   "source": [
    "pip install scikit-fem"
   ]
  },
  {
   "cell_type": "markdown",
   "metadata": {},
   "source": [
    "## Poisson example\n",
    "$$\n",
    "\\left\\{\\begin{array}{ll}\n",
    "-\\Delta \\varphi=f & \\text { in } \\Omega \\\\\n",
    "\\varphi=0 & \\text { on } \\partial \\Omega\n",
    "\\end{array}\\right.\n",
    "$$"
   ]
  },
  {
   "cell_type": "code",
   "execution_count": 2,
   "metadata": {},
   "outputs": [],
   "source": [
    "from skfem import *\n",
    "from skfem.visuals.matplotlib import draw, plot\n",
    "from skfem.helpers import d, dd, ddd, dot, ddot, grad, dddot, prod\n",
    "from skfem.assembly import BilinearForm, LinearForm"
   ]
  },
  {
   "cell_type": "markdown",
   "metadata": {},
   "source": [
    "### Mesh and basis"
   ]
  },
  {
   "cell_type": "code",
   "execution_count": 3,
   "metadata": {},
   "outputs": [],
   "source": [
    "m = MeshTri()"
   ]
  },
  {
   "cell_type": "code",
   "execution_count": 4,
   "metadata": {},
   "outputs": [
    {
     "output_type": "execute_result",
     "data": {
      "text/plain": [
       "<matplotlib.axes._subplots.AxesSubplot at 0x2235ae42448>"
      ]
     },
     "metadata": {},
     "execution_count": 4
    },
    {
     "output_type": "display_data",
     "data": {
      "text/plain": "<Figure size 432x288 with 1 Axes>",
      "image/svg+xml": "<?xml version=\"1.0\" encoding=\"utf-8\" standalone=\"no\"?>\r\n<!DOCTYPE svg PUBLIC \"-//W3C//DTD SVG 1.1//EN\"\r\n  \"http://www.w3.org/Graphics/SVG/1.1/DTD/svg11.dtd\">\r\n<!-- Created with matplotlib (https://matplotlib.org/) -->\r\n<svg height=\"231.84pt\" version=\"1.1\" viewBox=\"0 0 231.84 231.84\" width=\"231.84pt\" xmlns=\"http://www.w3.org/2000/svg\" xmlns:xlink=\"http://www.w3.org/1999/xlink\">\r\n <defs>\r\n  <style type=\"text/css\">\r\n*{stroke-linecap:butt;stroke-linejoin:round;}\r\n  </style>\r\n </defs>\r\n <g id=\"figure_1\">\r\n  <g id=\"patch_1\">\r\n   <path d=\"M 0 231.84 \r\nL 231.84 231.84 \r\nL 231.84 0 \r\nL 0 0 \r\nz\r\n\" style=\"fill:none;\"/>\r\n  </g>\r\n  <g id=\"axes_1\">\r\n   <g id=\"line2d_1\">\r\n    <path clip-path=\"url(#pda284ebff1)\" d=\"M 17.083636 214.756364 \r\nL 214.756364 214.756364 \r\nM 17.083636 214.756364 \r\nL 17.083636 17.083636 \r\nM 214.756364 214.756364 \r\nL 17.083636 17.083636 \r\nM 214.756364 214.756364 \r\nL 214.756364 17.083636 \r\nM 17.083636 17.083636 \r\nL 214.756364 17.083636 \r\n\" style=\"fill:none;stroke:#000000;stroke-linecap:square;stroke-width:0.5;\"/>\r\n   </g>\r\n  </g>\r\n </g>\r\n <defs>\r\n  <clipPath id=\"pda284ebff1\">\r\n   <rect height=\"217.44\" width=\"217.44\" x=\"7.2\" y=\"7.2\"/>\r\n  </clipPath>\r\n </defs>\r\n</svg>\r\n",
      "image/png": "[encoded data removed]"
     },
     "metadata": {
      "needs_background": "light"
     }
    }
   ],
   "source": [
    "draw(m)"
   ]
  },
  {
   "cell_type": "code",
   "execution_count": 5,
   "metadata": {},
   "outputs": [],
   "source": [
    "m.refine(2)"
   ]
  },
  {
   "cell_type": "code",
   "execution_count": 6,
   "metadata": {},
   "outputs": [
    {
     "output_type": "execute_result",
     "data": {
      "text/plain": [
       "<matplotlib.axes._subplots.AxesSubplot at 0x2236d8f6888>"
      ]
     },
     "metadata": {},
     "execution_count": 6
    },
    {
     "output_type": "display_data",
     "data": {
      "text/plain": "<Figure size 432x288 with 1 Axes>",
      "image/svg+xml": "<?xml version=\"1.0\" encoding=\"utf-8\" standalone=\"no\"?>\r\n<!DOCTYPE svg PUBLIC \"-//W3C//DTD SVG 1.1//EN\"\r\n  \"http://www.w3.org/Graphics/SVG/1.1/DTD/svg11.dtd\">\r\n<!-- Created with matplotlib (https://matplotlib.org/) -->\r\n<svg height=\"231.84pt\" version=\"1.1\" viewBox=\"0 0 231.84 231.84\" width=\"231.84pt\" xmlns=\"http://www.w3.org/2000/svg\" xmlns:xlink=\"http://www.w3.org/1999/xlink\">\r\n <defs>\r\n  <style type=\"text/css\">\r\n*{stroke-linecap:butt;stroke-linejoin:round;}\r\n  </style>\r\n </defs>\r\n <g id=\"figure_1\">\r\n  <g id=\"patch_1\">\r\n   <path d=\"M 0 231.84 \r\nL 231.84 231.84 \r\nL 231.84 0 \r\nL 0 0 \r\nz\r\n\" style=\"fill:none;\"/>\r\n  </g>\r\n  <g id=\"axes_1\">\r\n   <g id=\"line2d_1\">\r\n    <path clip-path=\"url(#pa11eb75ebb)\" d=\"M 17.083636 214.756364 \r\nL 66.501818 214.756364 \r\nM 17.083636 214.756364 \r\nL 17.083636 165.338182 \r\nM 214.756364 214.756364 \r\nL 165.338182 214.756364 \r\nM 214.756364 214.756364 \r\nL 165.338182 165.338182 \r\nM 214.756364 214.756364 \r\nL 214.756364 165.338182 \r\nM 17.083636 17.083636 \r\nL 17.083636 66.501818 \r\nM 17.083636 17.083636 \r\nL 66.501818 66.501818 \r\nM 17.083636 17.083636 \r\nL 66.501818 17.083636 \r\nM 214.756364 17.083636 \r\nL 214.756364 66.501818 \r\nM 214.756364 17.083636 \r\nL 165.338182 17.083636 \r\nM 115.92 214.756364 \r\nL 66.501818 214.756364 \r\nM 115.92 214.756364 \r\nL 165.338182 214.756364 \r\nM 115.92 214.756364 \r\nL 66.501818 165.338182 \r\nM 115.92 214.756364 \r\nL 115.92 165.338182 \r\nM 17.083636 115.92 \r\nL 17.083636 165.338182 \r\nM 17.083636 115.92 \r\nL 17.083636 66.501818 \r\nM 17.083636 115.92 \r\nL 66.501818 165.338182 \r\nM 17.083636 115.92 \r\nL 66.501818 115.92 \r\nM 115.92 115.92 \r\nL 165.338182 165.338182 \r\nM 115.92 115.92 \r\nL 66.501818 66.501818 \r\nM 115.92 115.92 \r\nL 115.92 165.338182 \r\nM 115.92 115.92 \r\nL 66.501818 115.92 \r\nM 115.92 115.92 \r\nL 165.338182 115.92 \r\nM 115.92 115.92 \r\nL 115.92 66.501818 \r\nM 214.756364 115.92 \r\nL 214.756364 165.338182 \r\nM 214.756364 115.92 \r\nL 214.756364 66.501818 \r\nM 214.756364 115.92 \r\nL 165.338182 115.92 \r\nM 214.756364 115.92 \r\nL 165.338182 66.501818 \r\nM 115.92 17.083636 \r\nL 66.501818 17.083636 \r\nM 115.92 17.083636 \r\nL 165.338182 17.083636 \r\nM 115.92 17.083636 \r\nL 115.92 66.501818 \r\nM 115.92 17.083636 \r\nL 165.338182 66.501818 \r\nM 66.501818 214.756364 \r\nL 17.083636 165.338182 \r\nM 66.501818 214.756364 \r\nL 66.501818 165.338182 \r\nM 17.083636 165.338182 \r\nL 66.501818 165.338182 \r\nM 165.338182 214.756364 \r\nL 165.338182 165.338182 \r\nM 165.338182 214.756364 \r\nL 115.92 165.338182 \r\nM 165.338182 165.338182 \r\nL 214.756364 165.338182 \r\nM 165.338182 165.338182 \r\nL 115.92 165.338182 \r\nM 165.338182 165.338182 \r\nL 165.338182 115.92 \r\nM 214.756364 165.338182 \r\nL 165.338182 115.92 \r\nM 17.083636 66.501818 \r\nL 66.501818 66.501818 \r\nM 17.083636 66.501818 \r\nL 66.501818 115.92 \r\nM 66.501818 66.501818 \r\nL 66.501818 17.083636 \r\nM 66.501818 66.501818 \r\nL 66.501818 115.92 \r\nM 66.501818 66.501818 \r\nL 115.92 66.501818 \r\nM 66.501818 17.083636 \r\nL 115.92 66.501818 \r\nM 214.756364 66.501818 \r\nL 165.338182 17.083636 \r\nM 214.756364 66.501818 \r\nL 165.338182 66.501818 \r\nM 165.338182 17.083636 \r\nL 165.338182 66.501818 \r\nM 66.501818 165.338182 \r\nL 115.92 165.338182 \r\nM 66.501818 165.338182 \r\nL 66.501818 115.92 \r\nM 115.92 165.338182 \r\nL 66.501818 115.92 \r\nM 165.338182 115.92 \r\nL 115.92 66.501818 \r\nM 165.338182 115.92 \r\nL 165.338182 66.501818 \r\nM 115.92 66.501818 \r\nL 165.338182 66.501818 \r\nL 165.338182 66.501818 \r\n\" style=\"fill:none;stroke:#000000;stroke-linecap:square;stroke-width:0.5;\"/>\r\n   </g>\r\n  </g>\r\n </g>\r\n <defs>\r\n  <clipPath id=\"pa11eb75ebb\">\r\n   <rect height=\"217.44\" width=\"217.44\" x=\"7.2\" y=\"7.2\"/>\r\n  </clipPath>\r\n </defs>\r\n</svg>\r\n",
      "image/png": "[encoded data removed]"
     },
     "metadata": {
      "needs_background": "light"
     }
    }
   ],
   "source": [
    "draw(m)"
   ]
  },
  {
   "cell_type": "code",
   "execution_count": 7,
   "metadata": {},
   "outputs": [],
   "source": [
    "e = ElementTriP1()"
   ]
  },
  {
   "cell_type": "code",
   "execution_count": 8,
   "metadata": {},
   "outputs": [],
   "source": [
    "basis = InteriorBasis(m, e)"
   ]
  },
  {
   "cell_type": "code",
   "execution_count": 9,
   "metadata": {},
   "outputs": [
    {
     "output_type": "execute_result",
     "data": {
      "text/plain": [
       "array([[0.  , 1.  , 0.  , 1.  , 0.5 , 0.  , 0.5 , 1.  , 0.5 , 0.25, 0.  ,\n",
       "        0.75, 0.75, 1.  , 0.  , 0.25, 0.25, 1.  , 0.75, 0.25, 0.5 , 0.25,\n",
       "        0.75, 0.5 , 0.75],\n",
       "       [0.  , 0.  , 1.  , 1.  , 0.  , 0.5 , 0.5 , 0.5 , 1.  , 0.  , 0.25,\n",
       "        0.  , 0.25, 0.25, 0.75, 0.75, 1.  , 0.75, 1.  , 0.25, 0.25, 0.5 ,\n",
       "        0.5 , 0.75, 0.75]])"
      ]
     },
     "metadata": {},
     "execution_count": 9
    }
   ],
   "source": [
    "basis.doflocs # loactions of degree of freedom"
   ]
  },
  {
   "cell_type": "markdown",
   "metadata": {},
   "source": [
    "### Define forms"
   ]
  },
  {
   "cell_type": "markdown",
   "metadata": {},
   "source": [
    "$$\n",
    "(\\nabla u, \\nabla v)\n",
    "$$"
   ]
  },
  {
   "cell_type": "code",
   "execution_count": 10,
   "metadata": {},
   "outputs": [],
   "source": [
    "@BilinearForm\n",
    "def laplace(u, v, w):\n",
    "    return dot(grad(u), grad(v))"
   ]
  },
  {
   "cell_type": "markdown",
   "metadata": {},
   "source": [
    "$$\n",
    "(f, v)\n",
    "$$\n",
    "Set $f = 2$"
   ]
  },
  {
   "cell_type": "code",
   "execution_count": 11,
   "metadata": {},
   "outputs": [],
   "source": [
    "@LinearForm\n",
    "def right_load(v, w):\n",
    "    f = 2\n",
    "    return v * f"
   ]
  },
  {
   "cell_type": "markdown",
   "metadata": {},
   "source": [
    "### Assemble"
   ]
  },
  {
   "cell_type": "markdown",
   "metadata": {},
   "source": [
    "$$\n",
    "Au=b\n",
    "$$"
   ]
  },
  {
   "cell_type": "code",
   "execution_count": 12,
   "metadata": {},
   "outputs": [],
   "source": [
    "A = asm(laplace, basis) # assemble\n",
    "\n",
    "b = asm(right_load, basis) "
   ]
  },
  {
   "cell_type": "code",
   "execution_count": 17,
   "metadata": {},
   "outputs": [
    {
     "output_type": "error",
     "ename": "NameError",
     "evalue": "name 'todense' is not defined",
     "traceback": [
      "\u001b[1;31m---------------------------------------------------------------------------\u001b[0m",
      "\u001b[1;31mNameError\u001b[0m                                 Traceback (most recent call last)",
      "\u001b[1;32m<ipython-input-17-0a2c0def39a8>\u001b[0m in \u001b[0;36m<module>\u001b[1;34m\u001b[0m\n\u001b[1;32m----> 1\u001b[1;33m \u001b[0mhelp\u001b[0m\u001b[1;33m(\u001b[0m\u001b[0mtodense\u001b[0m\u001b[1;33m(\u001b[0m\u001b[1;33m)\u001b[0m\u001b[1;33m)\u001b[0m\u001b[1;33m\u001b[0m\u001b[1;33m\u001b[0m\u001b[0m\n\u001b[0m",
      "\u001b[1;31mNameError\u001b[0m: name 'todense' is not defined"
     ]
    }
   ],
   "source": [
    "help(todense())"
   ]
  },
  {
   "cell_type": "markdown",
   "metadata": {},
   "source": [
    "### Boundary"
   ]
  },
  {
   "cell_type": "code",
   "execution_count": 12,
   "metadata": {},
   "outputs": [
    {
     "data": {
      "text/plain": [
       "(<9x9 sparse matrix of type '<class 'numpy.float64'>'\n",
       " \twith 33 stored elements in Compressed Sparse Row format>,\n",
       " array([0.125, 0.125, 0.125, 0.125, 0.125, 0.125, 0.125, 0.125, 0.125]),\n",
       " array([0., 0., 0., 0., 0., 0., 0., 0., 0., 0., 0., 0., 0., 0., 0., 0., 0.,\n",
       "        0., 0., 0., 0., 0., 0., 0., 0.]),\n",
       " array([ 6, 12, 15, 19, 20, 21, 22, 23, 24]))"
      ]
     },
     "execution_count": 12,
     "metadata": {},
     "output_type": "execute_result"
    }
   ],
   "source": [
    "condense(A, b, D=m.boundary_nodes())"
   ]
  },
  {
   "cell_type": "markdown",
   "metadata": {},
   "source": [
    "### Solve"
   ]
  },
  {
   "cell_type": "code",
   "execution_count": 13,
   "metadata": {},
   "outputs": [],
   "source": [
    "u = solve(*condense(A, b, D=m.boundary_nodes()))"
   ]
  },
  {
   "cell_type": "code",
   "execution_count": 14,
   "metadata": {},
   "outputs": [
    {
     "data": {
      "text/plain": [
       "array([0.       , 0.       , 0.       , 0.       , 0.       , 0.       ,\n",
       "       0.140625 , 0.       , 0.       , 0.       , 0.       , 0.       ,\n",
       "       0.0859375, 0.       , 0.       , 0.0859375, 0.       , 0.       ,\n",
       "       0.       , 0.0859375, 0.109375 , 0.109375 , 0.109375 , 0.109375 ,\n",
       "       0.0859375])"
      ]
     },
     "execution_count": 14,
     "metadata": {},
     "output_type": "execute_result"
    }
   ],
   "source": [
    "u"
   ]
  },
  {
   "cell_type": "code",
   "execution_count": 15,
   "metadata": {},
   "outputs": [
    {
     "data": {
      "text/plain": [
       "<matplotlib.axes._subplots.AxesSubplot at 0x27754a32648>"
      ]
     },
     "execution_count": 15,
     "metadata": {},
     "output_type": "execute_result"
    },
    {
     "data": {
      "image/png": "[encoded data removed]",
      "text/plain": [
       "<Figure size 432x288 with 2 Axes>"
      ]
     },
     "metadata": {
      "needs_background": "light"
     },
     "output_type": "display_data"
    }
   ],
   "source": [
    "plot(basis, u, colorbar=True)"
   ]
  },
  {
   "cell_type": "markdown",
   "metadata": {},
   "source": [
    "## Other codes"
   ]
  },
  {
   "cell_type": "code",
   "execution_count": 25,
   "metadata": {},
   "outputs": [],
   "source": [
    "m = MeshTri.init_symmetric()"
   ]
  },
  {
   "cell_type": "code",
   "execution_count": 26,
   "metadata": {},
   "outputs": [
    {
     "data": {
      "text/plain": [
       "<matplotlib.axes._subplots.AxesSubplot at 0x27754b912c8>"
      ]
     },
     "execution_count": 26,
     "metadata": {},
     "output_type": "execute_result"
    },
    {
     "data": {
      "image/png": "[encoded data removed]",
      "text/plain": [
       "<Figure size 432x288 with 1 Axes>"
      ]
     },
     "metadata": {
      "needs_background": "light"
     },
     "output_type": "display_data"
    }
   ],
   "source": [
    "draw(m)"
   ]
  },
  {
   "cell_type": "code",
   "execution_count": 27,
   "metadata": {},
   "outputs": [],
   "source": [
    "dofs = basis.find_dofs({\n",
    "    'left': m.facets_satisfying(lambda x: x[0] == 0),\n",
    "    'right': m.facets_satisfying(lambda x: x[0] == 1),\n",
    "    'top': m.facets_satisfying(lambda x: x[1] == 1),\n",
    "    'buttom': m.facets_satisfying(lambda x: x[1] == 0)\n",
    "})"
   ]
  },
  {
   "cell_type": "code",
   "execution_count": 28,
   "metadata": {},
   "outputs": [
    {
     "data": {
      "text/plain": [
       "array([[0.01041667, 0.01041667, 0.01041667],\n",
       "       [0.01041667, 0.01041667, 0.01041667],\n",
       "       [0.01041667, 0.01041667, 0.01041667],\n",
       "       [0.01041667, 0.01041667, 0.01041667],\n",
       "       [0.01041667, 0.01041667, 0.01041667],\n",
       "       [0.01041667, 0.01041667, 0.01041667],\n",
       "       [0.01041667, 0.01041667, 0.01041667],\n",
       "       [0.01041667, 0.01041667, 0.01041667],\n",
       "       [0.01041667, 0.01041667, 0.01041667],\n",
       "       [0.01041667, 0.01041667, 0.01041667],\n",
       "       [0.01041667, 0.01041667, 0.01041667],\n",
       "       [0.01041667, 0.01041667, 0.01041667],\n",
       "       [0.01041667, 0.01041667, 0.01041667],\n",
       "       [0.01041667, 0.01041667, 0.01041667],\n",
       "       [0.01041667, 0.01041667, 0.01041667],\n",
       "       [0.01041667, 0.01041667, 0.01041667],\n",
       "       [0.01041667, 0.01041667, 0.01041667],\n",
       "       [0.01041667, 0.01041667, 0.01041667],\n",
       "       [0.01041667, 0.01041667, 0.01041667],\n",
       "       [0.01041667, 0.01041667, 0.01041667],\n",
       "       [0.01041667, 0.01041667, 0.01041667],\n",
       "       [0.01041667, 0.01041667, 0.01041667],\n",
       "       [0.01041667, 0.01041667, 0.01041667],\n",
       "       [0.01041667, 0.01041667, 0.01041667],\n",
       "       [0.01041667, 0.01041667, 0.01041667],\n",
       "       [0.01041667, 0.01041667, 0.01041667],\n",
       "       [0.01041667, 0.01041667, 0.01041667],\n",
       "       [0.01041667, 0.01041667, 0.01041667],\n",
       "       [0.01041667, 0.01041667, 0.01041667],\n",
       "       [0.01041667, 0.01041667, 0.01041667],\n",
       "       [0.01041667, 0.01041667, 0.01041667],\n",
       "       [0.01041667, 0.01041667, 0.01041667]])"
      ]
     },
     "execution_count": 28,
     "metadata": {},
     "output_type": "execute_result"
    }
   ],
   "source": [
    "basis.dx"
   ]
  },
  {
   "cell_type": "code",
   "execution_count": 29,
   "metadata": {},
   "outputs": [],
   "source": [
    "fbasis = FacetBasis(m, e)"
   ]
  },
  {
   "cell_type": "code",
   "execution_count": 30,
   "metadata": {},
   "outputs": [
    {
     "data": {
      "text/plain": [
       "<skfem.assembly.basis.facet_basis.FacetBasis at 0x27754ceda08>"
      ]
     },
     "execution_count": 30,
     "metadata": {},
     "output_type": "execute_result"
    }
   ],
   "source": [
    "fbasis"
   ]
  },
  {
   "cell_type": "markdown",
   "metadata": {},
   "source": [
    "Interpolating result $u$"
   ]
  },
  {
   "cell_type": "code",
   "execution_count": 31,
   "metadata": {},
   "outputs": [],
   "source": [
    "U = basis.interpolate(u)"
   ]
  },
  {
   "cell_type": "code",
   "execution_count": 32,
   "metadata": {},
   "outputs": [
    {
     "data": {
      "text/plain": [
       "array([[[ 0.     ,  0.     ,  0.     ],\n",
       "        [-0.34375, -0.34375, -0.34375],\n",
       "        [ 0.     ,  0.     ,  0.     ],\n",
       "        [ 0.     ,  0.     ,  0.     ],\n",
       "        [ 0.34375,  0.34375,  0.34375],\n",
       "        [ 0.     ,  0.     ,  0.     ],\n",
       "        [ 0.09375,  0.09375,  0.09375],\n",
       "        [-0.125  , -0.125  , -0.125  ],\n",
       "        [ 0.     ,  0.     ,  0.     ],\n",
       "        [-0.125  , -0.125  , -0.125  ],\n",
       "        [ 0.     ,  0.     ,  0.     ],\n",
       "        [ 0.09375,  0.09375,  0.09375],\n",
       "        [ 0.4375 ,  0.4375 ,  0.4375 ],\n",
       "        [-0.34375, -0.34375, -0.34375],\n",
       "        [ 0.4375 ,  0.4375 ,  0.4375 ],\n",
       "        [-0.4375 , -0.4375 , -0.4375 ],\n",
       "        [ 0.34375,  0.34375,  0.34375],\n",
       "        [-0.4375 , -0.4375 , -0.4375 ],\n",
       "        [-0.09375, -0.09375, -0.09375],\n",
       "        [ 0.     ,  0.     ,  0.     ],\n",
       "        [ 0.125  ,  0.125  ,  0.125  ],\n",
       "        [ 0.     ,  0.     ,  0.     ],\n",
       "        [ 0.125  ,  0.125  ,  0.125  ],\n",
       "        [-0.09375, -0.09375, -0.09375],\n",
       "        [ 0.34375,  0.34375,  0.34375],\n",
       "        [-0.34375, -0.34375, -0.34375],\n",
       "        [-0.09375, -0.09375, -0.09375],\n",
       "        [ 0.09375,  0.09375,  0.09375],\n",
       "        [ 0.34375,  0.34375,  0.34375],\n",
       "        [-0.34375, -0.34375, -0.34375],\n",
       "        [ 0.09375,  0.09375,  0.09375],\n",
       "        [-0.09375, -0.09375, -0.09375]],\n",
       "\n",
       "       [[ 0.     ,  0.     ,  0.     ],\n",
       "        [ 0.     ,  0.     ,  0.     ],\n",
       "        [ 0.34375,  0.34375,  0.34375],\n",
       "        [-0.34375, -0.34375, -0.34375],\n",
       "        [ 0.     ,  0.     ,  0.     ],\n",
       "        [ 0.     ,  0.     ,  0.     ],\n",
       "        [ 0.4375 ,  0.4375 ,  0.4375 ],\n",
       "        [-0.125  , -0.125  , -0.125  ],\n",
       "        [ 0.34375,  0.34375,  0.34375],\n",
       "        [ 0.09375,  0.09375,  0.09375],\n",
       "        [ 0.4375 ,  0.4375 ,  0.4375 ],\n",
       "        [-0.125  , -0.125  , -0.125  ],\n",
       "        [ 0.     ,  0.     ,  0.     ],\n",
       "        [ 0.     ,  0.     ,  0.     ],\n",
       "        [ 0.09375,  0.09375,  0.09375],\n",
       "        [-0.09375, -0.09375, -0.09375],\n",
       "        [ 0.     ,  0.     ,  0.     ],\n",
       "        [ 0.     ,  0.     ,  0.     ],\n",
       "        [ 0.125  ,  0.125  ,  0.125  ],\n",
       "        [-0.4375 , -0.4375 , -0.4375 ],\n",
       "        [-0.09375, -0.09375, -0.09375],\n",
       "        [-0.34375, -0.34375, -0.34375],\n",
       "        [ 0.125  ,  0.125  ,  0.125  ],\n",
       "        [-0.4375 , -0.4375 , -0.4375 ],\n",
       "        [ 0.34375,  0.34375,  0.34375],\n",
       "        [ 0.09375,  0.09375,  0.09375],\n",
       "        [ 0.34375,  0.34375,  0.34375],\n",
       "        [-0.34375, -0.34375, -0.34375],\n",
       "        [-0.09375, -0.09375, -0.09375],\n",
       "        [-0.34375, -0.34375, -0.34375],\n",
       "        [ 0.09375,  0.09375,  0.09375],\n",
       "        [-0.09375, -0.09375, -0.09375]]])"
      ]
     },
     "execution_count": 32,
     "metadata": {},
     "output_type": "execute_result"
    }
   ],
   "source": [
    "U.grad"
   ]
  }
 ],
 "metadata": {
  "kernelspec": {
   "display_name": "Python 3",
   "language": "python",
   "name": "python3"
  },
  "language_info": {
   "codemirror_mode": {
    "name": "ipython",
    "version": 3
   },
   "file_extension": ".py",
   "mimetype": "text/x-python",
   "name": "python",
   "nbconvert_exporter": "python",
   "pygments_lexer": "ipython3",
   "version": "3.7.4-final"
  },
  "toc": {
   "base_numbering": 1,
   "nav_menu": {},
   "number_sections": true,
   "sideBar": false,
   "skip_h1_title": false,
   "title_cell": "Table of Contents",
   "title_sidebar": "Contents",
   "toc_cell": false,
   "toc_position": {},
   "toc_section_display": false,
   "toc_window_display": false
  },
  "varInspector": {
   "cols": {
    "lenName": 16,
    "lenType": 16,
    "lenVar": 40
   },
   "kernels_config": {
    "python": {
     "delete_cmd_postfix": "",
     "delete_cmd_prefix": "del ",
     "library": "var_list.py",
     "varRefreshCmd": "print(var_dic_list())"
    },
    "r": {
     "delete_cmd_postfix": ") ",
     "delete_cmd_prefix": "rm(",
     "library": "var_list.r",
     "varRefreshCmd": "cat(var_dic_list()) "
    }
   },
   "types_to_exclude": [
    "module",
    "function",
    "builtin_function_or_method",
    "instance",
    "_Feature"
   ],
   "window_display": false
  }
 },
 "nbformat": 4,
 "nbformat_minor": 4
}